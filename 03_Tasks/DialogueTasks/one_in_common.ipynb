{
 "cells": [
  {
   "cell_type": "markdown",
   "metadata": {},
   "source": [
    "# The \"One Common\" Dialogue Data\n",
    "\n",
    "This notebook shows how to import the OneCommon dataset into our common format. (Or, actually, just into pandas dataframes.)\n",
    "\n",
    "PhotoBook references:\n",
    "- [on github](https://github.com/Alab-NII/onecommon)\n",
    "- [the AAAI 2019 paper, Udagawa & Aizawa](https://aaai.org/ojs/index.php/AAAI/article/view/4694)"
   ]
  },
  {
   "cell_type": "code",
   "execution_count": 1,
   "metadata": {},
   "outputs": [],
   "source": [
    "from __future__ import division\n",
    "import codecs\n",
    "import json\n",
    "import configparser\n",
    "import os\n",
    "import sys\n",
    "import re\n",
    "\n",
    "from collections import defaultdict, Counter\n",
    "\n",
    "from time import localtime, strftime\n",
    "\n",
    "from textwrap import wrap\n",
    "\n",
    "\n",
    "import pandas as pd\n",
    "import numpy as np\n",
    "from IPython.display import display, HTML\n",
    "\n",
    "import matplotlib.pyplot as plt\n",
    "import matplotlib\n",
    "%matplotlib inline"
   ]
  },
  {
   "cell_type": "code",
   "execution_count": 2,
   "metadata": {},
   "outputs": [],
   "source": [
    "# load config file, set up paths, make project-specific imports\n",
    "config_path = os.environ.get('VISCONF')\n",
    "if not config_path:\n",
    "    # try default location, if not in environment\n",
    "    default_path_to_config = '../../clp-vision/Config/default.cfg'\n",
    "    if os.path.isfile(default_path_to_config):\n",
    "        config_path = default_path_to_config\n",
    "\n",
    "assert config_path is not None, 'You need to specify the path to the config file via environment variable VISCONF.'        \n",
    "\n",
    "config = configparser.ConfigParser()\n",
    "with open(config_path, 'r', encoding='utf-8') as f:\n",
    "    config.read_file(f)\n",
    "\n",
    "corpora_base = config.get('DEFAULT', 'corpora_base')\n",
    "\n",
    "dsgv_home = config.get('DSGV-PATHS', 'dsgv_home')\n",
    "sys.path.append(dsgv_home + '/Utils')\n",
    "from utils import icorpus_code, get_image_filename"
   ]
  },
  {
   "cell_type": "code",
   "execution_count": 3,
   "metadata": {},
   "outputs": [],
   "source": [
    "oc_base = corpora_base + '/onecommon'"
   ]
  },
  {
   "cell_type": "code",
   "execution_count": 4,
   "metadata": {},
   "outputs": [],
   "source": [
    "with open(oc_base + '/data/final_transcripts.json', 'r') as f:\n",
    "    tr = json.load(f)"
   ]
  },
  {
   "cell_type": "code",
   "execution_count": 5,
   "metadata": {},
   "outputs": [
    {
     "data": {
      "text/plain": [
       "6760"
      ]
     },
     "execution_count": 5,
     "metadata": {},
     "output_type": "execute_result"
    }
   ],
   "source": [
    "len(tr)"
   ]
  },
  {
   "cell_type": "code",
   "execution_count": 6,
   "metadata": {},
   "outputs": [],
   "source": [
    "def to_rgb_spec(rgb_in):\n",
    "    m = re.match(r'rgb\\((\\d+),(\\d+),(\\d+)\\)', rgb_in)\n",
    "    rgb = m.groups()\n",
    "    return list(map(lambda x: x / 255, list(map(int, rgb))))"
   ]
  },
  {
   "cell_type": "code",
   "execution_count": 7,
   "metadata": {},
   "outputs": [],
   "source": [
    "# after long sleuthing in the code, and after finally remembering that SVG has the origin in the\n",
    "# top left, this seems to reconstruct the scenes fairly well...\n",
    "def plt_scene(scene, ax, show_obj_id=False):\n",
    "    #fig, ax = fax\n",
    "    #fig, ax = plt.subplots()\n",
    "    grid_size = 500\n",
    "    ax.add_artist(plt.Circle((215, 215), 205, fill=False))\n",
    "\n",
    "    for obj in scene:\n",
    "        #ax.add_artist(plt.Circle((obj['x'] / grid_size, obj['y'] / grid_size),\n",
    "        #                         obj['size'] / grid_size, color=to_rgb_spec(obj['color'])))\n",
    "        ax.add_artist(plt.Circle((obj['x'], 430 - obj['y']),\n",
    "                                 obj['size'], color=to_rgb_spec(obj['color'])))\n",
    "\n",
    "        if show_obj_id:\n",
    "            #ax.text(obj['x'] / grid_size, obj['y'] / grid_size, obj['id'])\n",
    "            ax.text(obj['x'], 430 - obj['y'], obj['id'])\n",
    "    ax.set_aspect('equal')\n",
    "    ax.set_ylim(0,430)\n",
    "    ax.set_xlim(0,430)\n",
    "    ax.axis('off')\n",
    "    ax.tick_params(\n",
    "        axis='x',          # changes apply to the x-axis\n",
    "        which='both',      # both major and minor ticks are affected\n",
    "        bottom=False,      # ticks along the bottom edge are off\n",
    "        top=False,         # ticks along the top edge are off\n",
    "        labelbottom=False) # labels along the bottom edge are off\n",
    "    ax.tick_params(\n",
    "        axis='y',          # changes apply to the x-axis\n",
    "        which='both',      # both major and minor ticks are affected\n",
    "        left=False,      # ticks along the bottom edge are off\n",
    "        right=False,         # ticks along the top edge are off\n",
    "        labelleft=False) # labels along the bottom edge are off\n",
    "    \n",
    "def plt_scenes(scenes, show_obj_id=False):\n",
    "    fig, (ax1, ax2) = plt.subplots(1,2)\n",
    "    plt_scene(scenes[0], ax1, show_obj_id=show_obj_id)\n",
    "    plt_scene(scenes[1], ax2, show_obj_id=show_obj_id)"
   ]
  },
  {
   "cell_type": "code",
   "execution_count": 8,
   "metadata": {},
   "outputs": [],
   "source": [
    "def user_styler(r, colmap):\n",
    "    return ['color: {}'.format(colmap[r['agent']]) for _ in range(len(r))]\n",
    "\n",
    "def get_colmap(df):\n",
    "    users = df['agent'].unique().tolist()\n",
    "    colmap = dict(zip(users, 'blue black'.split()))\n",
    "    return colmap\n",
    "\n",
    "def pp(df, width=50, textcol='data'):\n",
    "    out_cols = []\n",
    "    for this_col in df.columns:\n",
    "        textcols = [textcol] if type(textcol) is not list else textcol\n",
    "        if this_col in textcols:\n",
    "            out_cols.append(df[this_col]\n",
    "                            .apply(lambda x: 'XXBREAKHEREXX'.join(wrap(x, width))))\n",
    "        else:\n",
    "            out_cols.append(df[this_col])\n",
    "\n",
    "    display(HTML(pd.concat(out_cols, axis=1)\n",
    "                 .style.apply(lambda x:\n",
    "                              user_styler(x,\n",
    "                                          get_colmap(df)),\n",
    "                              axis=1)\n",
    "                 .render()\n",
    "                 .replace(\"XXBREAKHEREXX\", \"<br/>\")))"
   ]
  },
  {
   "cell_type": "code",
   "execution_count": 9,
   "metadata": {},
   "outputs": [],
   "source": [
    "def show_dial(tr):\n",
    "    plt_scenes(tr['scenario']['kbs'])\n",
    "    plt_scenes(tr['scenario']['kbs'], show_obj_id=True)\n",
    "    plt.show()\n",
    "    this_df = pd.DataFrame(tr['events'])['agent data start_time time'.split()]\n",
    "    zero_time = float(this_df.iloc[0]['start_time'])\n",
    "    #this_df['start_time'] = td_reform(pd.to_timedelta(pd.to_numeric(this_df['start_time']) - zero_time))\n",
    "    this_df['start_time'] = pd.to_numeric(this_df['start_time']) - zero_time\n",
    "    this_df['time'] = pd.to_numeric(this_df['time']) - zero_time\n",
    "    \n",
    "    display(pp(this_df))"
   ]
  },
  {
   "cell_type": "markdown",
   "metadata": {},
   "source": [
    "In this view, the top left circle shows what agent 0 saw, the top right one what agent 1 saw. The row below gives the numerical IDs for the circles, so that the final selection action in the dialogue transcript can be evaluated."
   ]
  },
  {
   "cell_type": "code",
   "execution_count": 10,
   "metadata": {},
   "outputs": [
    {
     "data": {
      "image/png": "[encoded data removed]",
      "text/plain": [
       "<Figure size 432x288 with 2 Axes>"
      ]
     },
     "metadata": {},
     "output_type": "display_data"
    },
    {
     "data": {
      "image/png": "[encoded data removed]",
      "text/plain": [
       "<Figure size 432x288 with 2 Axes>"
      ]
     },
     "metadata": {},
     "output_type": "display_data"
    },
    {
     "data": {
      "text/html": [
       "<style  type=\"text/css\" >\n",
       "    #T_69a3c23e_caa0_11e9_9775_784f437b915brow0_col0 {\n",
       "            color:  blue;\n",
       "        }    #T_69a3c23e_caa0_11e9_9775_784f437b915brow0_col1 {\n",
       "            color:  blue;\n",
       "        }    #T_69a3c23e_caa0_11e9_9775_784f437b915brow0_col2 {\n",
       "            color:  blue;\n",
       "        }    #T_69a3c23e_caa0_11e9_9775_784f437b915brow0_col3 {\n",
       "            color:  blue;\n",
       "        }    #T_69a3c23e_caa0_11e9_9775_784f437b915brow1_col0 {\n",
       "            color:  black;\n",
       "        }    #T_69a3c23e_caa0_11e9_9775_784f437b915brow1_col1 {\n",
       "            color:  black;\n",
       "        }    #T_69a3c23e_caa0_11e9_9775_784f437b915brow1_col2 {\n",
       "            color:  black;\n",
       "        }    #T_69a3c23e_caa0_11e9_9775_784f437b915brow1_col3 {\n",
       "            color:  black;\n",
       "        }    #T_69a3c23e_caa0_11e9_9775_784f437b915brow2_col0 {\n",
       "            color:  blue;\n",
       "        }    #T_69a3c23e_caa0_11e9_9775_784f437b915brow2_col1 {\n",
       "            color:  blue;\n",
       "        }    #T_69a3c23e_caa0_11e9_9775_784f437b915brow2_col2 {\n",
       "            color:  blue;\n",
       "        }    #T_69a3c23e_caa0_11e9_9775_784f437b915brow2_col3 {\n",
       "            color:  blue;\n",
       "        }    #T_69a3c23e_caa0_11e9_9775_784f437b915brow3_col0 {\n",
       "            color:  black;\n",
       "        }    #T_69a3c23e_caa0_11e9_9775_784f437b915brow3_col1 {\n",
       "            color:  black;\n",
       "        }    #T_69a3c23e_caa0_11e9_9775_784f437b915brow3_col2 {\n",
       "            color:  black;\n",
       "        }    #T_69a3c23e_caa0_11e9_9775_784f437b915brow3_col3 {\n",
       "            color:  black;\n",
       "        }    #T_69a3c23e_caa0_11e9_9775_784f437b915brow4_col0 {\n",
       "            color:  blue;\n",
       "        }    #T_69a3c23e_caa0_11e9_9775_784f437b915brow4_col1 {\n",
       "            color:  blue;\n",
       "        }    #T_69a3c23e_caa0_11e9_9775_784f437b915brow4_col2 {\n",
       "            color:  blue;\n",
       "        }    #T_69a3c23e_caa0_11e9_9775_784f437b915brow4_col3 {\n",
       "            color:  blue;\n",
       "        }    #T_69a3c23e_caa0_11e9_9775_784f437b915brow5_col0 {\n",
       "            color:  black;\n",
       "        }    #T_69a3c23e_caa0_11e9_9775_784f437b915brow5_col1 {\n",
       "            color:  black;\n",
       "        }    #T_69a3c23e_caa0_11e9_9775_784f437b915brow5_col2 {\n",
       "            color:  black;\n",
       "        }    #T_69a3c23e_caa0_11e9_9775_784f437b915brow5_col3 {\n",
       "            color:  black;\n",
       "        }    #T_69a3c23e_caa0_11e9_9775_784f437b915brow6_col0 {\n",
       "            color:  blue;\n",
       "        }    #T_69a3c23e_caa0_11e9_9775_784f437b915brow6_col1 {\n",
       "            color:  blue;\n",
       "        }    #T_69a3c23e_caa0_11e9_9775_784f437b915brow6_col2 {\n",
       "            color:  blue;\n",
       "        }    #T_69a3c23e_caa0_11e9_9775_784f437b915brow6_col3 {\n",
       "            color:  blue;\n",
       "        }    #T_69a3c23e_caa0_11e9_9775_784f437b915brow7_col0 {\n",
       "            color:  black;\n",
       "        }    #T_69a3c23e_caa0_11e9_9775_784f437b915brow7_col1 {\n",
       "            color:  black;\n",
       "        }    #T_69a3c23e_caa0_11e9_9775_784f437b915brow7_col2 {\n",
       "            color:  black;\n",
       "        }    #T_69a3c23e_caa0_11e9_9775_784f437b915brow7_col3 {\n",
       "            color:  black;\n",
       "        }</style><table id=\"T_69a3c23e_caa0_11e9_9775_784f437b915b\" ><thead>    <tr>        <th class=\"blank level0\" ></th>        <th class=\"col_heading level0 col0\" >agent</th>        <th class=\"col_heading level0 col1\" >data</th>        <th class=\"col_heading level0 col2\" >start_time</th>        <th class=\"col_heading level0 col3\" >time</th>    </tr></thead><tbody>\n",
       "                <tr>\n",
       "                        <th id=\"T_69a3c23e_caa0_11e9_9775_784f437b915blevel0_row0\" class=\"row_heading level0 row0\" >0</th>\n",
       "                        <td id=\"T_69a3c23e_caa0_11e9_9775_784f437b915brow0_col0\" class=\"data row0 col0\" >0</td>\n",
       "                        <td id=\"T_69a3c23e_caa0_11e9_9775_784f437b915brow0_col1\" class=\"data row0 col1\" >I have two dark twins, very close to each other,<br/>and large.</td>\n",
       "                        <td id=\"T_69a3c23e_caa0_11e9_9775_784f437b915brow0_col2\" class=\"data row0 col2\" >0</td>\n",
       "                        <td id=\"T_69a3c23e_caa0_11e9_9775_784f437b915brow0_col3\" class=\"data row0 col3\" >11.99</td>\n",
       "            </tr>\n",
       "            <tr>\n",
       "                        <th id=\"T_69a3c23e_caa0_11e9_9775_784f437b915blevel0_row1\" class=\"row_heading level0 row1\" >1</th>\n",
       "                        <td id=\"T_69a3c23e_caa0_11e9_9775_784f437b915brow1_col0\" class=\"data row1 col0\" >1</td>\n",
       "                        <td id=\"T_69a3c23e_caa0_11e9_9775_784f437b915brow1_col1\" class=\"data row1 col1\" >I don't see those. I have one light grey one,<br/>small darker grey below it to the right?</td>\n",
       "                        <td id=\"T_69a3c23e_caa0_11e9_9775_784f437b915brow1_col2\" class=\"data row1 col2\" >20.05</td>\n",
       "                        <td id=\"T_69a3c23e_caa0_11e9_9775_784f437b915brow1_col3\" class=\"data row1 col3\" >68.93</td>\n",
       "            </tr>\n",
       "            <tr>\n",
       "                        <th id=\"T_69a3c23e_caa0_11e9_9775_784f437b915blevel0_row2\" class=\"row_heading level0 row2\" >2</th>\n",
       "                        <td id=\"T_69a3c23e_caa0_11e9_9775_784f437b915brow2_col0\" class=\"data row2 col0\" >0</td>\n",
       "                        <td id=\"T_69a3c23e_caa0_11e9_9775_784f437b915brow2_col1\" class=\"data row2 col1\" >I see those, I think.  There is another small dark<br/>one to the lower left of the big light one?</td>\n",
       "                        <td id=\"T_69a3c23e_caa0_11e9_9775_784f437b915brow2_col2\" class=\"data row2 col2\" >84.12</td>\n",
       "                        <td id=\"T_69a3c23e_caa0_11e9_9775_784f437b915brow2_col3\" class=\"data row2 col3\" >106.3</td>\n",
       "            </tr>\n",
       "            <tr>\n",
       "                        <th id=\"T_69a3c23e_caa0_11e9_9775_784f437b915blevel0_row3\" class=\"row_heading level0 row3\" >3</th>\n",
       "                        <td id=\"T_69a3c23e_caa0_11e9_9775_784f437b915brow3_col0\" class=\"data row3 col0\" >1</td>\n",
       "                        <td id=\"T_69a3c23e_caa0_11e9_9775_784f437b915brow3_col1\" class=\"data row3 col1\" >Yes, further away.</td>\n",
       "                        <td id=\"T_69a3c23e_caa0_11e9_9775_784f437b915brow3_col2\" class=\"data row3 col2\" >118.83</td>\n",
       "                        <td id=\"T_69a3c23e_caa0_11e9_9775_784f437b915brow3_col3\" class=\"data row3 col3\" >121.22</td>\n",
       "            </tr>\n",
       "            <tr>\n",
       "                        <th id=\"T_69a3c23e_caa0_11e9_9775_784f437b915blevel0_row4\" class=\"row_heading level0 row4\" >4</th>\n",
       "                        <td id=\"T_69a3c23e_caa0_11e9_9775_784f437b915brow4_col0\" class=\"data row4 col0\" >0</td>\n",
       "                        <td id=\"T_69a3c23e_caa0_11e9_9775_784f437b915brow4_col1\" class=\"data row4 col1\" >Yes! Let's go with the large light colored one!</td>\n",
       "                        <td id=\"T_69a3c23e_caa0_11e9_9775_784f437b915brow4_col2\" class=\"data row4 col2\" >125.12</td>\n",
       "                        <td id=\"T_69a3c23e_caa0_11e9_9775_784f437b915brow4_col3\" class=\"data row4 col3\" >134.41</td>\n",
       "            </tr>\n",
       "            <tr>\n",
       "                        <th id=\"T_69a3c23e_caa0_11e9_9775_784f437b915blevel0_row5\" class=\"row_heading level0 row5\" >5</th>\n",
       "                        <td id=\"T_69a3c23e_caa0_11e9_9775_784f437b915brow5_col0\" class=\"data row5 col0\" >1</td>\n",
       "                        <td id=\"T_69a3c23e_caa0_11e9_9775_784f437b915brow5_col1\" class=\"data row5 col1\" >Good.</td>\n",
       "                        <td id=\"T_69a3c23e_caa0_11e9_9775_784f437b915brow5_col2\" class=\"data row5 col2\" >137.79</td>\n",
       "                        <td id=\"T_69a3c23e_caa0_11e9_9775_784f437b915brow5_col3\" class=\"data row5 col3\" >138.72</td>\n",
       "            </tr>\n",
       "            <tr>\n",
       "                        <th id=\"T_69a3c23e_caa0_11e9_9775_784f437b915blevel0_row6\" class=\"row_heading level0 row6\" >6</th>\n",
       "                        <td id=\"T_69a3c23e_caa0_11e9_9775_784f437b915brow6_col0\" class=\"data row6 col0\" >0</td>\n",
       "                        <td id=\"T_69a3c23e_caa0_11e9_9775_784f437b915brow6_col1\" class=\"data row6 col1\" >54</td>\n",
       "                        <td id=\"T_69a3c23e_caa0_11e9_9775_784f437b915brow6_col2\" class=\"data row6 col2\" >nan</td>\n",
       "                        <td id=\"T_69a3c23e_caa0_11e9_9775_784f437b915brow6_col3\" class=\"data row6 col3\" >139.65</td>\n",
       "            </tr>\n",
       "            <tr>\n",
       "                        <th id=\"T_69a3c23e_caa0_11e9_9775_784f437b915blevel0_row7\" class=\"row_heading level0 row7\" >7</th>\n",
       "                        <td id=\"T_69a3c23e_caa0_11e9_9775_784f437b915brow7_col0\" class=\"data row7 col0\" >1</td>\n",
       "                        <td id=\"T_69a3c23e_caa0_11e9_9775_784f437b915brow7_col1\" class=\"data row7 col1\" >54</td>\n",
       "                        <td id=\"T_69a3c23e_caa0_11e9_9775_784f437b915brow7_col2\" class=\"data row7 col2\" >nan</td>\n",
       "                        <td id=\"T_69a3c23e_caa0_11e9_9775_784f437b915brow7_col3\" class=\"data row7 col3\" >140.16</td>\n",
       "            </tr>\n",
       "    </tbody></table>"
      ],
      "text/plain": [
       "<IPython.core.display.HTML object>"
      ]
     },
     "metadata": {},
     "output_type": "display_data"
    },
    {
     "data": {
      "text/plain": [
       "None"
      ]
     },
     "metadata": {},
     "output_type": "display_data"
    }
   ],
   "source": [
    "show_dial(tr[20])"
   ]
  },
  {
   "cell_type": "code",
   "execution_count": null,
   "metadata": {},
   "outputs": [],
   "source": []
  }
 ],
 "metadata": {
  "kernelspec": {
   "display_name": "Python 3",
   "language": "python",
   "name": "python3"
  },
  "language_info": {
   "codemirror_mode": {
    "name": "ipython",
    "version": 3
   },
   "file_extension": ".py",
   "mimetype": "text/x-python",
   "name": "python",
   "nbconvert_exporter": "python",
   "pygments_lexer": "ipython3",
   "version": "3.7.3"
  }
 },
 "nbformat": 4,
 "nbformat_minor": 2
}
